{
 "cells": [
  {
   "cell_type": "code",
   "execution_count": 18,
   "metadata": {},
   "outputs": [],
   "source": [
    "def solution(A):\n",
    "    # write your code in Python 3.6\n",
    "    \n",
    "    range_dat = list(range(1,len(A) + 2))\n",
    "    for i in range_dat:\n",
    "        if i not in A:\n",
    "            return(i)"
   ]
  },
  {
   "cell_type": "code",
   "execution_count": 19,
   "metadata": {},
   "outputs": [],
   "source": [
    "a = [1, 2, 3]\n",
    "b = [-1, -3]"
   ]
  },
  {
   "cell_type": "code",
   "execution_count": 20,
   "metadata": {},
   "outputs": [
    {
     "name": "stdout",
     "output_type": "stream",
     "text": [
      "4\n"
     ]
    }
   ],
   "source": [
    "solution(a)"
   ]
  },
  {
   "cell_type": "code",
   "execution_count": 27,
   "metadata": {},
   "outputs": [],
   "source": [
    "def solution(N):\n",
    "    \n",
    "    iter_lst = list(list(range(1, N+1)))\n",
    "    name_2 = \"Codility\"\n",
    "    name_3 = \"Test\"\n",
    "    name_5 = \"Coders\"\n",
    "    for i in iter_lst:\n",
    "        name = \"\"\n",
    "        if i % 2 == 0:\n",
    "            name += name_2\n",
    "        if i % 3 == 0:\n",
    "            name += name_3\n",
    "        if i % 5 == 0:\n",
    "            name += name_5\n",
    "        if name == \"\":\n",
    "            print(i)\n",
    "        else:\n",
    "            print(name)"
   ]
  },
  {
   "cell_type": "code",
   "execution_count": 31,
   "metadata": {},
   "outputs": [
    {
     "name": "stdout",
     "output_type": "stream",
     "text": [
      "1\n",
      "Codility\n",
      "Test\n",
      "Codility\n",
      "Coders\n",
      "CodilityTest\n",
      "7\n",
      "Codility\n",
      "Test\n",
      "CodilityCoders\n",
      "11\n",
      "CodilityTest\n",
      "13\n",
      "Codility\n",
      "TestCoders\n",
      "Codility\n",
      "17\n",
      "CodilityTest\n",
      "19\n",
      "CodilityCoders\n",
      "Test\n",
      "Codility\n",
      "23\n",
      "CodilityTest\n",
      "Coders\n",
      "Codility\n",
      "Test\n",
      "Codility\n",
      "29\n",
      "CodilityTestCoders\n"
     ]
    }
   ],
   "source": [
    "solution(30)"
   ]
  },
  {
   "cell_type": "code",
   "execution_count": 32,
   "metadata": {},
   "outputs": [
    {
     "name": "stdout",
     "output_type": "stream",
     "text": [
      "3\n"
     ]
    }
   ],
   "source": [
    "b = [1, 2, 3]\n",
    "print(len(b))"
   ]
  },
  {
   "cell_type": "code",
   "execution_count": 72,
   "metadata": {},
   "outputs": [],
   "source": [
    "def solution(A):\n",
    "    #print(list(range(len(A))))\n",
    "    #print(len(A))\n",
    "    for i in range(len(A)-1):\n",
    "        if A[i] == -1:\n",
    "            return(i+1)\n",
    "    return(len(A))"
   ]
  },
  {
   "cell_type": "code",
   "execution_count": 73,
   "metadata": {},
   "outputs": [],
   "source": [
    "a = [1, 4, 1, 3, -1]"
   ]
  },
  {
   "cell_type": "code",
   "execution_count": 74,
   "metadata": {},
   "outputs": [
    {
     "name": "stdout",
     "output_type": "stream",
     "text": [
      "0\n",
      "1\n",
      "2\n",
      "3\n"
     ]
    },
    {
     "data": {
      "text/plain": [
       "5"
      ]
     },
     "execution_count": 74,
     "metadata": {},
     "output_type": "execute_result"
    }
   ],
   "source": [
    "solution(a)"
   ]
  },
  {
   "cell_type": "code",
   "execution_count": null,
   "metadata": {},
   "outputs": [],
   "source": []
  }
 ],
 "metadata": {
  "kernelspec": {
   "display_name": "Python [conda env:anaconda3]",
   "language": "python",
   "name": "conda-env-anaconda3-py"
  },
  "language_info": {
   "codemirror_mode": {
    "name": "ipython",
    "version": 3
   },
   "file_extension": ".py",
   "mimetype": "text/x-python",
   "name": "python",
   "nbconvert_exporter": "python",
   "pygments_lexer": "ipython3",
   "version": "3.6.7"
  }
 },
 "nbformat": 4,
 "nbformat_minor": 2
}
